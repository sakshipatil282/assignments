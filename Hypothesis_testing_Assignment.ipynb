{
  "nbformat": 4,
  "nbformat_minor": 0,
  "metadata": {
    "colab": {
      "provenance": []
    },
    "kernelspec": {
      "name": "python3",
      "display_name": "Python 3"
    },
    "language_info": {
      "name": "python"
    }
  },
  "cells": [
    {
      "cell_type": "markdown",
      "source": [
        "## CHI-SQUARE TEST"
      ],
      "metadata": {
        "id": "hnYWIypovGDC"
      }
    },
    {
      "cell_type": "code",
      "execution_count": 1,
      "metadata": {
        "id": "tNclekipt3KA"
      },
      "outputs": [],
      "source": [
        "import numpy as np\n",
        "import scipy.stats as stats"
      ]
    },
    {
      "cell_type": "code",
      "source": [
        "# Given data in a contingency table\n",
        "observed = np.array([\n",
        "    [50, 70],  # Very Satisfied\n",
        "    [80, 100],  # Satisfied\n",
        "    [60, 90],  # Neutral\n",
        "    [30, 50],  # Unsatisfied\n",
        "    [20, 50],  # Very Unsatisfied\n",
        "])"
      ],
      "metadata": {
        "id": "WJsz6HbPv2Wo"
      },
      "execution_count": 2,
      "outputs": []
    },
    {
      "cell_type": "code",
      "source": [
        "# Row and column totals\n",
        "row_totals = np.sum(observed, axis=1)\n",
        "column_totals = np.sum(observed, axis=0)\n",
        "grand_total = np.sum(observed)"
      ],
      "metadata": {
        "id": "FC5bvUHKwQX0"
      },
      "execution_count": 3,
      "outputs": []
    },
    {
      "cell_type": "code",
      "source": [
        "# Calculate expected frequencies\n",
        "expected = np.outer(row_totals, column_totals) / grand_total"
      ],
      "metadata": {
        "id": "_Fesc0JZwTGs"
      },
      "execution_count": 4,
      "outputs": []
    },
    {
      "cell_type": "code",
      "source": [
        "# Calculate the Chi-Square statistic\n",
        "chi_square_statistic = np.sum((observed - expected) ** 2 / expected)\n"
      ],
      "metadata": {
        "id": "2GWJFQTRwVmP"
      },
      "execution_count": 5,
      "outputs": []
    },
    {
      "cell_type": "code",
      "source": [
        "# Degrees of freedom\n",
        "df = (observed.shape[0] - 1) * (observed.shape[1] - 1)\n"
      ],
      "metadata": {
        "id": "jGEzGlilwZMy"
      },
      "execution_count": 6,
      "outputs": []
    },
    {
      "cell_type": "code",
      "source": [
        "# Critical value for alpha = 0.05\n",
        "alpha = 0.05\n",
        "critical_value = stats.chi2.ppf(1 - alpha, df)"
      ],
      "metadata": {
        "id": "bGDaXt-ywcFH"
      },
      "execution_count": 7,
      "outputs": []
    },
    {
      "cell_type": "code",
      "source": [
        "# Make a decision\n",
        "reject_null = chi_square_statistic > critical_value"
      ],
      "metadata": {
        "id": "5bVqrtWbwebs"
      },
      "execution_count": 8,
      "outputs": []
    },
    {
      "cell_type": "code",
      "source": [
        "# Conclusion\n",
        "conclusion = \"Reject the null hypothesis.\" if reject_null else \"Fail to reject the null hypothesis.\"\n"
      ],
      "metadata": {
        "id": "AcFjZOMlwiK-"
      },
      "execution_count": 9,
      "outputs": []
    },
    {
      "cell_type": "code",
      "source": [
        "# Output the results\n",
        "print(f\"Chi-Square Statistic: {chi_square_statistic}\")\n",
        "print(f\"Critical Value: {critical_value}\")\n",
        "print(f\"Decision: {conclusion}\")"
      ],
      "metadata": {
        "colab": {
          "base_uri": "https://localhost:8080/"
        },
        "id": "nCZ0wgtkwlAH",
        "outputId": "55049676-a94e-4b56-8666-e18b38e5be89"
      },
      "execution_count": 10,
      "outputs": [
        {
          "output_type": "stream",
          "name": "stdout",
          "text": [
            "Chi-Square Statistic: 5.638227513227513\n",
            "Critical Value: 9.487729036781154\n",
            "Decision: Fail to reject the null hypothesis.\n"
          ]
        }
      ]
    },
    {
      "cell_type": "markdown",
      "source": [
        "## HYPOTHESIS TESTING"
      ],
      "metadata": {
        "id": "3IQpsde5w0ro"
      }
    },
    {
      "cell_type": "code",
      "source": [
        "import math\n",
        "import scipy.stats as stats"
      ],
      "metadata": {
        "id": "QXQvQpt8wswG"
      },
      "execution_count": 11,
      "outputs": []
    },
    {
      "cell_type": "code",
      "source": [
        "# Given data\n",
        "sample_mean = 3050\n",
        "theoretical_mean = 1000 + 5 * 600  # 4000\n",
        "sigma = 5 * 25  # 125\n",
        "n = 25"
      ],
      "metadata": {
        "id": "zpWWfHnsw6JP"
      },
      "execution_count": 12,
      "outputs": []
    },
    {
      "cell_type": "code",
      "source": [
        "# Step 2: Calculate the Test Statistic\n",
        "test_statistic = (sample_mean - theoretical_mean) / (sigma / math.sqrt(n))\n",
        "\n"
      ],
      "metadata": {
        "id": "L_3fGku9w87q"
      },
      "execution_count": 13,
      "outputs": []
    },
    {
      "cell_type": "code",
      "source": [
        "# Step 3: Determine the Critical Value\n",
        "alpha = 0.05\n",
        "critical_value = stats.norm.ppf(1 - alpha)\n"
      ],
      "metadata": {
        "id": "pRMbzjeZxA4X"
      },
      "execution_count": 14,
      "outputs": []
    },
    {
      "cell_type": "code",
      "source": [
        "# Step 4: Make a Decision\n",
        "reject_null = test_statistic > critical_value\n"
      ],
      "metadata": {
        "id": "_Cu1aiCmxEUJ"
      },
      "execution_count": 15,
      "outputs": []
    },
    {
      "cell_type": "code",
      "source": [
        "# Step 5: Conclusion\n",
        "conclusion = \"Reject the null hypothesis.\" if reject_null else \"Fail to reject the null hypothesis.\"\n"
      ],
      "metadata": {
        "id": "2_BYxIO4xHSl"
      },
      "execution_count": 16,
      "outputs": []
    },
    {
      "cell_type": "code",
      "source": [
        "# Output the results\n",
        "print(f\"Test Statistic: {test_statistic}\")\n",
        "print(f\"Critical Value: {critical_value}\")\n",
        "print(f\"Decision: {conclusion}\")"
      ],
      "metadata": {
        "colab": {
          "base_uri": "https://localhost:8080/"
        },
        "id": "I1YDxLKsxLnf",
        "outputId": "eca1800b-b87a-405e-b828-bcf049150a54"
      },
      "execution_count": 17,
      "outputs": [
        {
          "output_type": "stream",
          "name": "stdout",
          "text": [
            "Test Statistic: -38.0\n",
            "Critical Value: 1.6448536269514722\n",
            "Decision: Fail to reject the null hypothesis.\n"
          ]
        }
      ]
    },
    {
      "cell_type": "code",
      "source": [],
      "metadata": {
        "id": "-Ll9C0bnxP-w"
      },
      "execution_count": null,
      "outputs": []
    }
  ]
}