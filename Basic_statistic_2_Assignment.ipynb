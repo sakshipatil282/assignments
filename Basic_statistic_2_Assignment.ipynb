{
  "nbformat": 4,
  "nbformat_minor": 0,
  "metadata": {
    "colab": {
      "provenance": []
    },
    "kernelspec": {
      "name": "python3",
      "display_name": "Python 3"
    },
    "language_info": {
      "name": "python"
    }
  },
  "cells": [
    {
      "cell_type": "markdown",
      "source": [
        "# A. Build 99% Confidence Interval Using Sample Standard Deviation"
      ],
      "metadata": {
        "id": "0NIj6ARyCUeT"
      }
    },
    {
      "cell_type": "code",
      "execution_count": 1,
      "metadata": {
        "id": "5ER7aigVCEP1"
      },
      "outputs": [],
      "source": [
        "import numpy as np\n",
        "from scipy import stats"
      ]
    },
    {
      "cell_type": "code",
      "source": [
        "df = np.array([1.13, 1.55, 1.43, 0.92, 1.25, 1.36, 1.32, 0.85, 1.07, 1.48, 1.20, 1.33, 1.18, 1.22, 1.29])"
      ],
      "metadata": {
        "id": "gYkCH8k6CcqZ"
      },
      "execution_count": 3,
      "outputs": []
    },
    {
      "cell_type": "code",
      "source": [
        "df"
      ],
      "metadata": {
        "colab": {
          "base_uri": "https://localhost:8080/"
        },
        "id": "MvsJzIM_Cr9r",
        "outputId": "bf6486e1-8f91-4438-ee6d-6d482d35c24b"
      },
      "execution_count": 4,
      "outputs": [
        {
          "output_type": "execute_result",
          "data": {
            "text/plain": [
              "array([1.13, 1.55, 1.43, 0.92, 1.25, 1.36, 1.32, 0.85, 1.07, 1.48, 1.2 ,\n",
              "       1.33, 1.18, 1.22, 1.29])"
            ]
          },
          "metadata": {},
          "execution_count": 4
        }
      ]
    },
    {
      "cell_type": "code",
      "source": [
        "n=len(df)"
      ],
      "metadata": {
        "id": "GKWeBWSBCsaO"
      },
      "execution_count": 5,
      "outputs": []
    },
    {
      "cell_type": "code",
      "source": [
        "mean =np.mean(df)"
      ],
      "metadata": {
        "id": "pmUAvojvCwbt"
      },
      "execution_count": 6,
      "outputs": []
    },
    {
      "cell_type": "code",
      "source": [
        "std_dev =np.std(data,ddof=1)"
      ],
      "metadata": {
        "id": "pcgu1c8QCzlm"
      },
      "execution_count": 7,
      "outputs": []
    },
    {
      "cell_type": "code",
      "source": [
        "df=n-1"
      ],
      "metadata": {
        "id": "4x7RejeGC3sJ"
      },
      "execution_count": 8,
      "outputs": []
    },
    {
      "cell_type": "code",
      "source": [
        "t_critical=stats.t.ppf(1-0.005,df)"
      ],
      "metadata": {
        "id": "4qW6z4ZRC7Mh"
      },
      "execution_count": 9,
      "outputs": []
    },
    {
      "cell_type": "code",
      "source": [
        "ME=t_critical*(std_dev/np.sqrt(n))\n"
      ],
      "metadata": {
        "id": "3QfjF7laC-Cp"
      },
      "execution_count": 10,
      "outputs": []
    },
    {
      "cell_type": "code",
      "source": [
        "CI_lower=mean-ME\n",
        "CI_upper=mean+ME"
      ],
      "metadata": {
        "id": "6L4wpA_oDBod"
      },
      "execution_count": 11,
      "outputs": []
    },
    {
      "cell_type": "code",
      "source": [
        "(mean,std_dev,t_critical,ME,CI_lower,CI_upper)"
      ],
      "metadata": {
        "colab": {
          "base_uri": "https://localhost:8080/"
        },
        "id": "eyS3iYSMDEQz",
        "outputId": "efc6b68c-2852-48ae-cb46-55822a8b9f7f"
      },
      "execution_count": 12,
      "outputs": [
        {
          "output_type": "execute_result",
          "data": {
            "text/plain": [
              "(1.2386666666666666,\n",
              " 0.19316412956959936,\n",
              " 2.976842734370834,\n",
              " 0.14846932822817596,\n",
              " 1.0901973384384906,\n",
              " 1.3871359948948425)"
            ]
          },
          "metadata": {},
          "execution_count": 12
        }
      ]
    },
    {
      "cell_type": "markdown",
      "source": [
        "# B. Build 99% Confidence Interval Using Known Population Standard Deviation"
      ],
      "metadata": {
        "id": "YVJ6tRxtDNPF"
      }
    },
    {
      "cell_type": "code",
      "source": [
        "pop_std_dev = 0.2"
      ],
      "metadata": {
        "id": "F21ALXn0DHUx"
      },
      "execution_count": 13,
      "outputs": []
    },
    {
      "cell_type": "code",
      "source": [
        "z_critical = stats.norm.ppf(1 - 0.005)"
      ],
      "metadata": {
        "id": "nom-KBnkDS81"
      },
      "execution_count": 14,
      "outputs": []
    },
    {
      "cell_type": "code",
      "source": [
        "ME_pop = z_critical * (pop_std_dev / np.sqrt(n))"
      ],
      "metadata": {
        "id": "4pyAiMkDDdEv"
      },
      "execution_count": 15,
      "outputs": []
    },
    {
      "cell_type": "code",
      "source": [
        "CI_pop_lower = mean - ME_pop\n",
        "CI_pop_upper = mean + ME_pop"
      ],
      "metadata": {
        "id": "8mVf2RAOD-TF"
      },
      "execution_count": 17,
      "outputs": []
    },
    {
      "cell_type": "code",
      "source": [
        "(mean, pop_std_dev, z_critical, ME_pop, CI_pop_lower, CI_pop_upper)"
      ],
      "metadata": {
        "colab": {
          "base_uri": "https://localhost:8080/"
        },
        "id": "iWPMCLV9DfY1",
        "outputId": "646e8dbf-9a58-4f22-d16e-2e1968ef8c4b"
      },
      "execution_count": 18,
      "outputs": [
        {
          "output_type": "execute_result",
          "data": {
            "text/plain": [
              "(1.2386666666666666,\n",
              " 0.2,\n",
              " 2.5758293035489004,\n",
              " 0.13301525327090588,\n",
              " 1.1056514133957607,\n",
              " 1.3716819199375725)"
            ]
          },
          "metadata": {},
          "execution_count": 18
        }
      ]
    },
    {
      "cell_type": "code",
      "source": [],
      "metadata": {
        "id": "3y17HSCaDx5h"
      },
      "execution_count": null,
      "outputs": []
    }
  ]
}